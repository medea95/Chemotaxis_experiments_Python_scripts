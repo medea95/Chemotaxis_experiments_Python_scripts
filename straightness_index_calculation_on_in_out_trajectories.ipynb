{
 "cells": [
  {
   "cell_type": "markdown",
   "id": "390fc127-a062-4174-b82d-ffc44f23f4d1",
   "metadata": {},
   "source": [
    "## Calculate the P values on the selected trajectories \n",
    "\n",
    "Takes as **input**: a Pandas dataframe containing the tracked trajectories (with the caractheristics of the output of the Trackpy tracking)\n",
    "\n",
    "Gives as **output**: a list of values of the parameter P ( \"S\" as for straighntess index in the paper)\n",
    "\n",
    "*written by Medea on 14/02/2023*"
   ]
  },
  {
   "cell_type": "code",
   "execution_count": 1,
   "id": "68edfbc8-ace5-4e30-86ce-d5e286f71fb1",
   "metadata": {},
   "outputs": [],
   "source": [
    "import pickle \n",
    "import numpy as np \n",
    "import pandas as pd\n",
    "import matplotlib.pyplot as plt\n",
    "%matplotlib inline\n",
    "import progressbar\n",
    "from os import walk\n",
    "from functions_P_parameter import calculate_P\n",
    "from tkinter.filedialog import askdirectory, askopenfilename\n",
    "\n",
    "px_um_conversion_factor = 2.703"
   ]
  },
  {
   "cell_type": "markdown",
   "id": "8543c680-f3b6-4054-ba04-94584462e2a2",
   "metadata": {},
   "source": [
    "functions to calculate P "
   ]
  },
  {
   "cell_type": "markdown",
   "id": "8e605a22-bf3c-49fe-805f-bc57cf75d2db",
   "metadata": {},
   "source": [
    "main path for inputs and outputs"
   ]
  },
  {
   "cell_type": "code",
   "execution_count": 7,
   "id": "4029310b-18c4-44cb-8911-95d64669c075",
   "metadata": {},
   "outputs": [],
   "source": [
    "# select the directory \n",
    "path = 'E:/P' # askdirectory()"
   ]
  },
  {
   "cell_type": "markdown",
   "id": "2065bb3f-71d3-40fb-98ef-99bd9db68140",
   "metadata": {},
   "source": [
    "get all the names of the dataframe files on which we want to calculate P "
   ]
  },
  {
   "cell_type": "markdown",
   "id": "17edd3ae-a0a1-49ec-8948-6c2b529a0cd2",
   "metadata": {},
   "source": [
    "ingoing"
   ]
  },
  {
   "cell_type": "code",
   "execution_count": 8,
   "id": "bbc65707-64b9-4245-9541-b4c1fda79548",
   "metadata": {
    "tags": []
   },
   "outputs": [],
   "source": [
    "# get all the file names in a directory\n",
    "f = []\n",
    "\n",
    "for (dirpath, dirnames, filenames) in walk(path+'/df_ingoing'):\n",
    "    f.extend(filenames)\n",
    "    break\n",
    "\n",
    "# now I select only the files starting with \"df_ingoing\" and create a list of the files names\n",
    "names_list_ingoing = []\n",
    "for filename in f: \n",
    "    if(filename.startswith('df_ingoing_')):\n",
    "        filename = filename.replace('df_ingoing_', '')\n",
    "        filename = filename.replace('.txt', '')\n",
    "        names_list_ingoing.append(filename)"
   ]
  },
  {
   "cell_type": "markdown",
   "id": "fab05c1f-0d97-4f96-b1fe-69b9ae75d7d8",
   "metadata": {},
   "source": [
    "outgoing"
   ]
  },
  {
   "cell_type": "code",
   "execution_count": 10,
   "id": "6135bfbe-99f9-49c1-9759-e49a077fa425",
   "metadata": {},
   "outputs": [],
   "source": [
    "# get all the file names in a directory\n",
    "f = []\n",
    "\n",
    "for (dirpath, dirnames, filenames) in walk(path+'/df_outgoing'):\n",
    "    f.extend(filenames)\n",
    "    break\n",
    "\n",
    "# now I select only the files starting with \"df_ingoing\" and create a list of the files names\n",
    "names_list_outgoing = []\n",
    "for filename in f: \n",
    "    if(filename.startswith('df_outgoing')):\n",
    "        filename = filename.replace('df_outgoing_', '')\n",
    "        filename = filename.replace('.txt', '')\n",
    "        names_list_outgoing.append(filename)"
   ]
  },
  {
   "cell_type": "markdown",
   "id": "5ead80c9-6212-4f3a-b9ef-6094f72dee4d",
   "metadata": {},
   "source": [
    "Loop over the files, calulate P and save the output"
   ]
  },
  {
   "cell_type": "markdown",
   "id": "f219a2df-8b58-4312-a12a-e3b9c8ecbf20",
   "metadata": {},
   "source": [
    "**ingoing**"
   ]
  },
  {
   "cell_type": "code",
   "execution_count": 12,
   "id": "dde6336c-bd91-4f69-a52f-ef4cd34054c9",
   "metadata": {},
   "outputs": [
    {
     "name": "stdout",
     "output_type": "stream",
     "text": [
      "processing G_D200_R1_filtered\n",
      "processing G_D200_R2_filtered\n",
      "processing G_D200_R3_filtered\n",
      "processing G_D20_R1_filtered\n",
      "processing G_D20_R2_filtered\n",
      "processing G_D20_R3_filtered\n",
      "processing G_D20_R4_filtered\n",
      "processing K_D20\n",
      "processing K_D200\n",
      "processing O_D200_R1\n",
      "processing O_D200_R2\n",
      "processing O_D200_R3\n",
      "processing O_D2O_R1\n",
      "processing O_D2O_R2\n",
      "processing O_D2O_R3\n"
     ]
    }
   ],
   "source": [
    "#i = 0\n",
    "#%matplotlib \n",
    "#    \n",
    "#i_max = len(names_list)\n",
    "#fig, axes= plt.subplots(1,i_max, figsize = (15,3))\n",
    "    \n",
    "for video_name in names_list_ingoing: \n",
    "    \n",
    "    # import dataframe with the trajectories selcted for the P calculation\n",
    "\n",
    "    # import the dataframe \n",
    "    with open(path+ '/df_ingoing/df_ingoing_'+ video_name , \"rb\") as myFile:\n",
    "        df = pickle.load(myFile)   \n",
    "        \n",
    "    print('processing '+video_name)\n",
    "    \n",
    "    # calculate the value of P over all the trajectories of the dataframe\n",
    "    P_list= calculate_P(df)\n",
    "    \n",
    "    # save the list of P in a folder \n",
    "    np.savetxt(path + \"/P_values/P_values_going_in_\"+video_name+\".dat\",   np.transpose(np.array(P_list)), \n",
    "               header = 'P going in '+video_name+ ', Length [points]') #save two numpy arrays (v1,v2) as columns in file \n",
    "    \n",
    "\n",
    "    \n",
    "    #axes[i].hist(P_list, bins = np.arange(0,1, 0.1))\n",
    "    #axes[i].set_title('P going in %s' %video_name)\n",
    "    #i = i+1\n",
    "\n",
    "#plt.show()  "
   ]
  },
  {
   "cell_type": "markdown",
   "id": "fec66e5f-9c04-4a04-8bd9-6782088ada15",
   "metadata": {},
   "source": [
    "**outgoing**"
   ]
  },
  {
   "cell_type": "code",
   "execution_count": 13,
   "id": "12a77e7b-f524-4000-8723-2283a57c3ff2",
   "metadata": {},
   "outputs": [
    {
     "name": "stdout",
     "output_type": "stream",
     "text": [
      "processing G_D200_R1_filtered\n",
      "processing G_D200_R2_filtered\n",
      "processing G_D200_R3_filtered\n",
      "processing G_D20_R1_filtered\n",
      "processing G_D20_R2_filtered\n",
      "processing G_D20_R3_filtered\n",
      "processing G_D20_R4_filtered\n",
      "processing K_D20\n",
      "processing K_D200\n",
      "processing O_D200_R1\n",
      "processing O_D200_R2\n",
      "processing O_D2O_R1\n",
      "processing O_D2O_R2\n",
      "processing O_D2O_R3\n"
     ]
    }
   ],
   "source": [
    "for video_name in names_list_outgoing: \n",
    "    \n",
    "    # import dataframe with the trajectories selcted for the P calculation\n",
    "\n",
    "    # import the dataframe \n",
    "    with open(path+ '/df_outgoing/df_outgoing_'+video_name , \"rb\") as myFile:\n",
    "        df = pickle.load(myFile)  \n",
    "        \n",
    "    print('processing '+video_name)\n",
    "    \n",
    "    # calculate the value of P over all the trajectories of the dataframe\n",
    "    P_list = calculate_P(df)\n",
    "    \n",
    "    # save the list of P in a folder \n",
    "    np.savetxt(path+ '/P_values_going_out_'+video_name+\".dat\",np.transpose(np.array(P_list)), \n",
    "               header = 'P value particles going out '+video_name) #save two numpy arrays (v1,v2) as columns in file "
   ]
  }
 ],
 "metadata": {
  "kernelspec": {
   "display_name": "Python 3 (ipykernel)",
   "language": "python",
   "name": "python3"
  },
  "language_info": {
   "codemirror_mode": {
    "name": "ipython",
    "version": 3
   },
   "file_extension": ".py",
   "mimetype": "text/x-python",
   "name": "python",
   "nbconvert_exporter": "python",
   "pygments_lexer": "ipython3",
   "version": "3.9.12"
  }
 },
 "nbformat": 4,
 "nbformat_minor": 5
}
