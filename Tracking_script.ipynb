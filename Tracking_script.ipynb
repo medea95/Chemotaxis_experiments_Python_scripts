{
 "cells": [
  {
   "cell_type": "markdown",
   "metadata": {},
   "source": [
    "## Trackpy tracking \n",
    "\n",
    "Tracking of cell movement in chemotaxis experiment. \n",
    "Must import: \n",
    "\n",
    "* the bckg subtracted video \n",
    "* the pipette properties dictionary \n",
    "\n",
    "Gives as output: \n",
    "\n",
    "* **df_up**, **df_low**: a dataframe for each pipette containing for each tracked particle the information on: \n",
    "  x-y coordinates, x-y coordinates in the reference system centered at the pipette entrance (x_new, y_new), x-velocity, y-velocity, module of velocity, angle of cell velocity vector with resepect to the radial direction centered in the pipette center \n",
    "  \n",
    "Must check that the tracking parameters are good before running this script!\n",
    "\n",
    "*Written by Medea Zanoli 30/12/2021*"
   ]
  },
  {
   "cell_type": "code",
   "execution_count": 1,
   "metadata": {},
   "outputs": [],
   "source": [
    "from PIL import Image, ImageEnhance, ImageSequence, ImageOps,  ImageChops, ImageFilter,  ImageDraw\n",
    "from tkinter import Tk\n",
    "from tkinter.filedialog import askdirectory, askopenfilename\n",
    "import os\n",
    "import glob\n",
    "import matplotlib.pyplot as plt\n",
    "%matplotlib inline \n",
    "import numpy as np\n",
    "from progressbar import ProgressBar\n",
    "import progressbar\n",
    "import pandas as pd\n",
    "import cv2 \n",
    "import seaborn as sns\n",
    "from scipy.signal import find_peaks\n",
    "from scipy.optimize import curve_fit\n",
    "from matplotlib import path\n",
    "import pickle\n",
    "import pims\n",
    "import trackpy as tp\n",
    "from scipy import interpolate\n",
    "\n",
    "\n",
    "# define the function to calculate the angle\n",
    "def angle_function(unit_r, unit_v): \n",
    "    \n",
    "    # check for cross product \n",
    "    cross = np.cross(unit_r, unit_v)\n",
    "    \n",
    "    if(cross >= 0 ): \n",
    "        angle =  np.rad2deg(np.arccos(np.dot(unit_r, unit_v))) \n",
    "    else: \n",
    "        angle =  - np.rad2deg(np.arccos(np.dot(unit_r, unit_v)))\n",
    "    return angle"
   ]
  },
  {
   "cell_type": "markdown",
   "metadata": {},
   "source": [
    "### Import the black and white background substracted video "
   ]
  },
  {
   "cell_type": "code",
   "execution_count": 8,
   "metadata": {},
   "outputs": [],
   "source": [
    "# FIRST IMPORT THE VIDEO TO PROCESS\n",
    "\n",
    "# background substracted video\n",
    "video_file = askopenfilename()\n",
    "video = pims.as_gray(pims.Video(video_file))\n",
    "bw_cap= cv2.VideoCapture(video_file)"
   ]
  },
  {
   "cell_type": "code",
   "execution_count": 10,
   "metadata": {},
   "outputs": [
    {
     "name": "stderr",
     "output_type": "stream",
     "text": [
      "  0% |                                                                        |\r"
     ]
    },
    {
     "name": "stdout",
     "output_type": "stream",
     "text": [
      "total number of frames: 110\n"
     ]
    }
   ],
   "source": [
    "frame_number = len(video) \n",
    "bar = ProgressBar(maxval=frame_number).start()\n",
    "\n",
    "i=0\n",
    "bw_frame_list = []\n",
    "\n",
    "while(bw_cap.isOpened()):\n",
    "    ret, frame = bw_cap.read()\n",
    "    if ret == False:\n",
    "        break\n",
    "        \n",
    "    gray_frame = cv2.cvtColor(frame, cv2.COLOR_BGR2GRAY)\n",
    "    bw_frame_list.append(gray_frame)\n",
    "    i+=1\n",
    "    bar.update(i)\n",
    "    \n",
    "print('total number of frames: %i' %frame_number)"
   ]
  },
  {
   "cell_type": "markdown",
   "metadata": {},
   "source": [
    "### Import the pipette properties"
   ]
  },
  {
   "cell_type": "code",
   "execution_count": 11,
   "metadata": {},
   "outputs": [],
   "source": [
    "# select the pipette properties file to use \n",
    "pipette_properties_file = askopenfilename() \n",
    "a_file = open(pipette_properties_file, \"rb\")\n",
    "pipette_properties_dictionary = pickle.load(a_file)"
   ]
  },
  {
   "cell_type": "markdown",
   "metadata": {},
   "source": [
    "### Select the folder where to save the outputs "
   ]
  },
  {
   "cell_type": "code",
   "execution_count": 7,
   "metadata": {},
   "outputs": [],
   "source": [
    "path_for_saving = askdirectory()"
   ]
  },
  {
   "cell_type": "markdown",
   "metadata": {},
   "source": [
    "### Set the tracking parameters"
   ]
  },
  {
   "cell_type": "code",
   "execution_count": 14,
   "metadata": {},
   "outputs": [],
   "source": [
    "# parameters for the tracking \n",
    "pixel_number = 11 #11#11 # diameter: features extent. Must be an be odd integer. When in doubt, round up.\n",
    "                    #If we use a pixel number too high then it groups together cells that are too close to each other. \n",
    "threshold = 30 #30 # Clip bandpass result below this value (correspond to the parameter \"signal\")\n",
    "separation = 0.5#1# 0.1 Minimum separation between maxima\n",
    "minmass = 1000 #  \"mass\" means total integrated brightness of the blob\n",
    "\n",
    "search_range = 5 #the farthest a particle can travel between frames (search_range): maximum distance\n",
    "memory = 3"
   ]
  },
  {
   "cell_type": "code",
   "execution_count": 15,
   "metadata": {},
   "outputs": [
    {
     "name": "stdout",
     "output_type": "stream",
     "text": [
      "Frame 109: 214 trajectories present.\n"
     ]
    }
   ],
   "source": [
    "# DO THE TRACKING \n",
    "# check features in all frames \n",
    "\n",
    "print('total number of frames %i' %frame_number)\n",
    "print('checking features in all frame...')\n",
    "ff= tp.batch(video, pixel_number, threshold = threshold, minmass=minmass, processes=1, separation=separation)\n",
    "    \n",
    "print('linking the trajectories between frames...')\n",
    "# track trajectories \n",
    "t = tp.link(ff, search_range= search_range, memory=memory) \n",
    "\n",
    "# filter out trajectories shorter than threshold \n",
    "t = tp.filtering.filter_stubs(t, threshold=4)"
   ]
  },
  {
   "cell_type": "code",
   "execution_count": 17,
   "metadata": {},
   "outputs": [
    {
     "ename": "SyntaxError",
     "evalue": "invalid syntax (422650132.py, line 66)",
     "output_type": "error",
     "traceback": [
      "\u001b[1;36m  Input \u001b[1;32mIn [17]\u001b[1;36m\u001b[0m\n\u001b[1;33m    print('total number of particle = % i' %np.max(np.unique(df_i.particle)))\u001b[0m\n\u001b[1;37m    ^\u001b[0m\n\u001b[1;31mSyntaxError\u001b[0m\u001b[1;31m:\u001b[0m invalid syntax\n"
     ]
    }
   ],
   "source": [
    "# CALCULATE NEW COORDINATES, VELOCITIES AND ANGLES\n",
    "\n",
    "# calculate x_new, y_new, velocity components and angles \n",
    "\n",
    "# set frame as index\n",
    "df_i=t.set_index('frame')\n",
    "\n",
    "# add a time column in seconds\n",
    "fps = 30 # frames per seconds of original video\n",
    "df_i.loc[:, 'time']= df_i.index*(1/fps) # time in seconds\n",
    "\n",
    "# define 2 daframes: one for the upper pipette, and one for the lower \n",
    "df_up = df_i.copy()\n",
    "df_low = df_i.copy()\n",
    "\n",
    "# export from the dictionary the pipette properties \n",
    "upper_contour = pipette_properties_dictionary['upper_contour']\n",
    "lower_contour = pipette_properties_dictionary['lower_contour']\n",
    "\n",
    "theta_up = pipette_properties_dictionary['theta_up']\n",
    "theta_low = pipette_properties_dictionary['theta_low']\n",
    "\n",
    "x_center_pipette_up = pipette_properties_dictionary['x_center_upper_pipette']\n",
    "y_center_pipette_up = pipette_properties_dictionary['y_center_upper_pipette']\n",
    "\n",
    "x_center_pipette_low = pipette_properties_dictionary['x_center_lower_pipette']\n",
    "y_center_pipette_low = pipette_properties_dictionary['y_center_lower_pipette']\n",
    "\n",
    "# new coordinates in the reference system centered in the upper pipette\n",
    "x_new_up = (df_i.x - x_center_pipette_up)*np.cos(theta_up) - (df_i.y - y_center_pipette_up)*np.sin(theta_up)\n",
    "\n",
    "y_new_up = (df_i.x - x_center_pipette_up)*np.sin(theta_up) +(df_i.y - y_center_pipette_up)*np.cos(theta_up)\n",
    "y_new_up = - y_new_up ## ->> so that the new coordinate sistems points UP \n",
    "\n",
    "# new coordinates in the reference system in the lower pipette \n",
    "x_new_low = (df_i.x - x_center_pipette_low)*np.cos(theta_low) - (df_i.y - y_center_pipette_low)*np.sin(theta_low)\n",
    "\n",
    "y_new_low = (df_i.x - x_center_pipette_low)*np.sin(theta_low) +(df_i.y - y_center_pipette_low)*np.cos(theta_low)\n",
    "y_new_low = - y_new_low ## ->> so that the new coordinate sistems points UP \n",
    "\n",
    "# add empty columns where we will put vx, vy and angle\n",
    "empty_array = np.empty(np.shape(df_i)[0])\n",
    "empty_array[:] = np.nan\n",
    "\n",
    "df_up.loc[:, 'x_new'] = x_new_up\n",
    "df_up.loc[:, 'y_new'] = y_new_up\n",
    "df_up.loc[:, 'r'] = np.sqrt(x_new_up**2 + y_new_up**2)\n",
    "df_up.loc[:, 'vx'] = empty_array\n",
    "df_up.loc[:, 'vy'] = empty_array\n",
    "df_up.loc[:, 'v'] = empty_array\n",
    "df_up.loc[:, 'angle'] = empty_array\n",
    "\n",
    "df_low.loc[:, 'x_new'] = x_new_low\n",
    "df_low.loc[:, 'y_new'] = y_new_low\n",
    "df_low.loc[:, 'r'] = np.sqrt(x_new_low**2 + y_new_low**2)\n",
    "df_low.loc[:, 'vx'] = empty_array\n",
    "df_low.loc[:, 'vy'] = empty_array\n",
    "df_low.loc[:, 'v'] = empty_array\n",
    "df_low.loc[:, 'angle'] = empty_array\n",
    "\n",
    "# perform a spline interpolation for getting x and y derivatives --> vx and vy\n",
    "smoothing_factor = 0\n",
    "\n",
    "bar = ProgressBar(max_value= len(np.unique(df_i.particle) + 1 )\n",
    "\n",
    "print('total number of particle = % i' %np.max(np.unique(df_i.particle)))\n",
    "\n",
    "print('processing df_up')\n",
    "\n",
    "# compute derivatives for upper pipette\n",
    "\n",
    "for particle in bar(np.unique(df_i.particle)):\n",
    "    # select the part of dataframe corresponding to the selected particle \n",
    "    particle_df = df_up[df_up['particle'] == particle]\n",
    "\n",
    "    # spline interpolation\n",
    "    # tck --> A tuple (t,c,k) containing the vector of knots, the B-spline coefficients, and the degree of the spline\n",
    "    # by default spline order = 3\n",
    "    tck_y = interpolate.splrep(particle_df.time, particle_df.y_new, s= smoothing_factor) \n",
    "    tck_x = interpolate.splrep(particle_df.time, particle_df.x_new, s= smoothing_factor)\n",
    "      \n",
    "     # x and y first derivative evaluated at all positions\n",
    "    xders = interpolate.splev(particle_df.time, tck_x, der = 1) # x derivative \n",
    "    yders = interpolate.splev(particle_df.time, tck_y, der = 1) # y derivative\n",
    "    \n",
    "    # vector contaning the vx and vy of the particle in all frames \n",
    "    velocity_direction_vector = np.transpose([xders, yders])  \n",
    "    # and normalize it \n",
    "    velocity_direction_vector = [row_element/np.linalg.norm(row_element) for row_element in velocity_direction_vector ]\n",
    "         \n",
    "    # unit vector pointing in the radial direction to the center of the pipette\n",
    "    radial_direction_vector =   np.transpose([-particle_df.x_new, -particle_df.y_new])  \n",
    "    radial_direction_vector = [row_element/np.linalg.norm(row_element) for row_element in radial_direction_vector ]\n",
    "      \n",
    "    # the angle is calculated as the arcos of the dot product between two arrays: an array pointing in the radial direction and the \n",
    "    # one of the instantaneus velocity of the bicho\n",
    "    angles = [ angle_function(unit_r, unit_v) for unit_r, unit_v  in zip(radial_direction_vector, velocity_direction_vector) ]    \n",
    "        \n",
    "    df_up.loc[df_up['particle'] == particle, 'angle'] =angles\n",
    "    df_up.loc[df_up['particle'] == particle, 'vx'] =xders\n",
    "    df_up.loc[df_up['particle'] == particle, 'vy'] =yders\n",
    "    df_up.loc[df_up['particle'] == particle, 'v'] = np.sqrt(xders**2 + yders**2)\n",
    "        \n",
    "    \n",
    "# ... and for the lower \n",
    "bar = ProgressBar(max_value=progressbar.UnknownLength)\n",
    "\n",
    "print('processing df_low')\n",
    "\n",
    "for particle in bar(np.unique(df_i.particle)):\n",
    "    #print('processing particle %i' %particle)\n",
    "    \n",
    "\n",
    "    # select the part of dataframe corresponding to the selected particle \n",
    "    particle_df = df_low[df_low['particle'] == particle]\n",
    "     \n",
    "    # spline interpolation\n",
    "    tck_y = interpolate.splrep(particle_df.time, particle_df.y_new, s= smoothing_factor) \n",
    "    tck_x = interpolate.splrep(particle_df.time, particle_df.x_new, s= smoothing_factor)\n",
    "      \n",
    "     # x and y first derivative evaluated at all positions\n",
    "    xders = interpolate.splev(particle_df.time, tck_x, der = 1) # x derivative \n",
    "    yders = interpolate.splev(particle_df.time, tck_y, der = 1) # y derivative\n",
    "    \n",
    "    # vector contaning the vx and vy of the particle in all frames \n",
    "    velocity_direction_vector = np.transpose([xders, yders])  \n",
    "    # and normalize it \n",
    "    velocity_direction_vector = [row_element/np.linalg.norm(row_element) for row_element in velocity_direction_vector ]\n",
    "      \n",
    "    # unit vector pointing in the radial direction to the center of the pipette\n",
    "    radial_direction_vector =   np.transpose([-particle_df.x_new, -particle_df.y_new])  \n",
    "    radial_direction_vector = [row_element/np.linalg.norm(row_element) for row_element in radial_direction_vector ]\n",
    "      \n",
    "    # the angle is calculated as the arcos of the dot product between two arrays: an array pointing in the radial direction and the \n",
    "    # one of the instantaneus velocity of the bicho\n",
    "    angles = [ angle_function(unit_r, unit_v) for unit_r, unit_v  in zip(radial_direction_vector, velocity_direction_vector) ]    \n",
    "        \n",
    "    \n",
    "    df_low.loc[df_low['particle'] == particle, 'angle'] =angles\n",
    "    df_low.loc[df_low['particle'] == particle, 'vx'] =xders\n",
    "    df_low.loc[df_low['particle'] == particle, 'vy'] =yders\n",
    "    df_low.loc[df_low['particle'] == particle, 'v'] = np.sqrt(xders**2 + yders**2)\n",
    "\n",
    "        \n",
    "with open(path_for_saving + \"/df_low.txt\", \"wb\") as myFile:    #choose the name to save it \n",
    "    pickle.dump(df_low, myFile)\n",
    "with open(path_for_saving +\"/df_up.txt\", \"wb\") as myFile:    #choose the name to save it \n",
    "    pickle.dump(df_up, myFile)\n",
    "      "
   ]
  },
  {
   "cell_type": "code",
   "execution_count": null,
   "metadata": {},
   "outputs": [],
   "source": []
  }
 ],
 "metadata": {
  "kernelspec": {
   "display_name": "Python 3 (ipykernel)",
   "language": "python",
   "name": "python3"
  },
  "language_info": {
   "codemirror_mode": {
    "name": "ipython",
    "version": 3
   },
   "file_extension": ".py",
   "mimetype": "text/x-python",
   "name": "python",
   "nbconvert_exporter": "python",
   "pygments_lexer": "ipython3",
   "version": "3.9.12"
  }
 },
 "nbformat": 4,
 "nbformat_minor": 4
}
