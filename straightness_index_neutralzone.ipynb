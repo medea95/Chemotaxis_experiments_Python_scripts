{
 "cells": [
  {
   "cell_type": "markdown",
   "id": "bce761e1-0c63-4e0e-93ca-ef652b087060",
   "metadata": {},
   "source": [
    "Calculate a control value of P: get a piece of trajectory far away from the capillary comprised in a circular corona of the same size as the one used to calculate P "
   ]
  },
  {
   "cell_type": "code",
   "execution_count": 20,
   "id": "6c4d6611-9d91-4948-afcc-e1c7034b72b0",
   "metadata": {},
   "outputs": [],
   "source": [
    "import pickle \n",
    "import numpy as np \n",
    "import pandas as pd\n",
    "import matplotlib.pyplot as plt\n",
    "%matplotlib inline\n",
    "import progressbar\n",
    "from os import walk\n",
    "import glob\n",
    "import os\n",
    "from functions_P_parameter import  calculate_P,path_length, filter_traj_going_out,  filter_traj_going_in\n",
    "import seaborn as sns\n",
    "from tkinter.filedialog import askdirectory, askopenfile\n",
    "\n",
    "sns.set()\n",
    "px_um_conversion_factor = 2.703"
   ]
  },
  {
   "cell_type": "code",
   "execution_count": 21,
   "id": "ba046b68-dd91-4d44-a97d-3770402be537",
   "metadata": {},
   "outputs": [],
   "source": [
    "# set body length\n",
    "BL_um = 20 # um\n",
    "# pass it to pixels \n",
    "BL_px = BL_um / px_um_conversion_factor \n",
    "\n",
    "# set upper limit and lower limit\n",
    "lower_limit = 20*BL_px\n",
    "upper_limit = 27*BL_px"
   ]
  },
  {
   "cell_type": "code",
   "execution_count": 22,
   "id": "7b973419-1bcb-408f-814a-31b06018fcbf",
   "metadata": {},
   "outputs": [],
   "source": [
    "# path input dataframes \n",
    "path_input_df = askdirectory()"
   ]
  },
  {
   "cell_type": "code",
   "execution_count": 23,
   "id": "61027393-6160-46d9-a0df-8d2fc59b43db",
   "metadata": {},
   "outputs": [],
   "source": [
    "# get all the file names in a directory\n",
    "f = []\n",
    "\n",
    "for (dirpath, dirnames, filenames) in walk(path_input_df):\n",
    "    f.extend(filenames)\n",
    "    break\n",
    "\n",
    "# now I select only the files starting with \"df_up\" and create a list of the files names\n",
    "names_list = []\n",
    "for filename in f: \n",
    "    if(filename.startswith('df_up')):\n",
    "        filename = filename.replace('df_up_', '')\n",
    "        filename = filename.replace('.txt', '')\n",
    "\n",
    "        names_list.append(filename)"
   ]
  },
  {
   "cell_type": "code",
   "execution_count": 24,
   "id": "b1f9bf81-9bdf-4c8a-85c1-42ce6b983757",
   "metadata": {
    "tags": []
   },
   "outputs": [
    {
     "name": "stdout",
     "output_type": "stream",
     "text": [
      "lower limit = 29\n",
      "processing G_D20_R1_filtered\n"
     ]
    },
    {
     "name": "stderr",
     "output_type": "stream",
     "text": [
      "  2% |#                                                                       |\r"
     ]
    },
    {
     "name": "stdout",
     "output_type": "stream",
     "text": [
      "hi! It is 18.05.23 x2\n"
     ]
    },
    {
     "name": "stderr",
     "output_type": "stream",
     "text": [
      "100% |########################################################################|\n",
      "100% |########################################################################|\n"
     ]
    },
    {
     "name": "stdout",
     "output_type": "stream",
     "text": [
      "lower limit = 31\n",
      "processing G_D20_R1_filtered\n"
     ]
    },
    {
     "name": "stderr",
     "output_type": "stream",
     "text": [
      "  3% |##                                                                      |\r"
     ]
    },
    {
     "name": "stdout",
     "output_type": "stream",
     "text": [
      "hi! It is 18.05.23 x2\n"
     ]
    },
    {
     "name": "stderr",
     "output_type": "stream",
     "text": [
      "100% |########################################################################|\n",
      "100% |########################################################################|\n"
     ]
    },
    {
     "name": "stdout",
     "output_type": "stream",
     "text": [
      "lower limit = 33\n",
      "processing G_D20_R1_filtered\n"
     ]
    },
    {
     "name": "stderr",
     "output_type": "stream",
     "text": [
      "  2% |#                                                                       |\r"
     ]
    },
    {
     "name": "stdout",
     "output_type": "stream",
     "text": [
      "hi! It is 18.05.23 x2\n"
     ]
    },
    {
     "name": "stderr",
     "output_type": "stream",
     "text": [
      "100% |########################################################################|\n",
      "100% |########################################################################|\n"
     ]
    },
    {
     "name": "stdout",
     "output_type": "stream",
     "text": [
      "lower limit = 35\n",
      "processing G_D20_R1_filtered\n"
     ]
    },
    {
     "name": "stderr",
     "output_type": "stream",
     "text": [
      "  2% |#                                                                       |\r"
     ]
    },
    {
     "name": "stdout",
     "output_type": "stream",
     "text": [
      "hi! It is 18.05.23 x2\n"
     ]
    },
    {
     "name": "stderr",
     "output_type": "stream",
     "text": [
      "100% |########################################################################|\n",
      "100% |########################################################################|\n"
     ]
    }
   ],
   "source": [
    "for i in np.arange(29, 37, 2):    \n",
    "    \n",
    "    upper_limit = i*BL_px\n",
    "    \n",
    "    print('lower limit = %i' %i)\n",
    "    for name in names_list: \n",
    "\n",
    "        # import the dataframe \n",
    "        with open(path_input_df + \"/df_up_\"+name+'.txt' , \"rb\") as myFile:\n",
    "            df_up = pickle.load(myFile)   \n",
    "\n",
    "        print('processing '+name)\n",
    "        # reset index\n",
    "        df_up = df_up.reset_index()\n",
    "\n",
    "        # take only the first minute\n",
    "        df_up = df_up[df_up.time < 60]\n",
    "        # filter out the trajectories approaching the capillary filled with the substrate\n",
    "        df_out = filter_traj_going_out(df_up, BL_px, upper_limit, lower_limit, name)\n",
    "        df_in = filter_traj_going_in(df_up, BL_px, upper_limit, lower_limit, name)\n",
    "\n",
    "        # calculate P \n",
    "        [P_list_out, _] = calculate_P(df_out)\n",
    "        [P_list_in, _] = calculate_P(df_in)\n",
    "\n",
    "        # put the list tog5ether\n",
    "        P_list_out.extend(P_list_in)\n",
    "        P_array = np.array(P_list_out)\n",
    "\n",
    "        # save it \n",
    "        np.savetxt('C:/Users/UX325/Desktop/Imedea/queralt-chemotaxis/Python_scripts/P_scripts/P_values/P_values_control_'+name+'_20_%i'%i,\n",
    "                   np.transpose(P_array), \n",
    "                   header = 'P control '+name) #save two numpy arrays (v1,v2) as columns in file "
   ]
  },
  {
   "cell_type": "markdown",
   "id": "3081224a-0763-4dfe-8179-6289b9775d49",
   "metadata": {},
   "source": [
    "check Oxyrris"
   ]
  },
  {
   "cell_type": "code",
   "execution_count": 31,
   "id": "48a99ba8-a5f2-426e-93ba-a748de18d7a4",
   "metadata": {},
   "outputs": [
    {
     "name": "stdout",
     "output_type": "stream",
     "text": [
      "processing O_D2O_R3\n",
      "processing O_D2O_R2\n",
      "processing O_D2O_R1\n",
      "processing O_D200_R2\n",
      "processing O_D200_R1\n"
     ]
    }
   ],
   "source": [
    "file_names = [ \n",
    "            'O_D2O_R3', 'O_D2O_R2', 'O_D2O_R1', \n",
    "            'O_D200_R2', 'O_D200_R1',           \n",
    "            ]\n",
    "\n",
    "all_P_list = []\n",
    "\n",
    "for file in file_names: \n",
    "    \n",
    "    print('processing ' + file)\n",
    "    \n",
    "    file_oxyrris = 'C:/Users/UX325/Desktop/Imedea/queralt-chemotaxis/Python_scripts/P_scripts/P_values/P_values_control_'+file+'.txt' #askopenfile()\n",
    "    P_list = np.loadtxt('C:/Users/UX325/Desktop/Imedea/queralt-chemotaxis/Python_scripts/P_scripts/P_values/P_values_control_'+ file )\n",
    "        \n",
    "    #[P_list, L_list] = calculate_P(df_up[df_up['time']<60])\n",
    "    \n",
    "    all_P_list.extend(P_list)"
   ]
  },
  {
   "cell_type": "code",
   "execution_count": 5,
   "id": "21633152-c5b3-499b-ab45-136a91fbc4bd",
   "metadata": {},
   "outputs": [],
   "source": [
    "lower_limit = 3*BL_px"
   ]
  },
  {
   "cell_type": "code",
   "execution_count": 8,
   "id": "1460573b-8e74-4b00-9ee2-81a8d316951b",
   "metadata": {},
   "outputs": [
    {
     "name": "stdout",
     "output_type": "stream",
     "text": [
      "lower limit = 18\n",
      "processing G_D200_R1_filtered\n"
     ]
    },
    {
     "name": "stderr",
     "output_type": "stream",
     "text": [
      "  0% |                                                                        |\r"
     ]
    },
    {
     "name": "stdout",
     "output_type": "stream",
     "text": [
      "hi! It is 18.05.23 x2\n"
     ]
    },
    {
     "name": "stderr",
     "output_type": "stream",
     "text": [
      "100% |########################################################################|\n",
      "100% |########################################################################|\n"
     ]
    },
    {
     "name": "stdout",
     "output_type": "stream",
     "text": [
      "processing G_D200_R2_filtered\n"
     ]
    },
    {
     "name": "stderr",
     "output_type": "stream",
     "text": [
      "  0% |                                                                        |\r"
     ]
    },
    {
     "name": "stdout",
     "output_type": "stream",
     "text": [
      "hi! It is 18.05.23 x2\n"
     ]
    },
    {
     "name": "stderr",
     "output_type": "stream",
     "text": [
      "100% |########################################################################|\n",
      "100% |########################################################################|\n"
     ]
    },
    {
     "name": "stdout",
     "output_type": "stream",
     "text": [
      "processing G_D200_R3_filtered\n"
     ]
    },
    {
     "name": "stderr",
     "output_type": "stream",
     "text": [
      "  0% |                                                                        |\r"
     ]
    },
    {
     "name": "stdout",
     "output_type": "stream",
     "text": [
      "hi! It is 18.05.23 x2\n"
     ]
    },
    {
     "name": "stderr",
     "output_type": "stream",
     "text": [
      "100% |########################################################################|\n",
      "100% |########################################################################|\n"
     ]
    },
    {
     "name": "stdout",
     "output_type": "stream",
     "text": [
      "processing G_D20_R1_filtered\n",
      "hi! It is 18.05.23 x2\n"
     ]
    },
    {
     "name": "stderr",
     "output_type": "stream",
     "text": [
      "100% |########################################################################|\n",
      "100% |########################################################################|\n"
     ]
    },
    {
     "name": "stdout",
     "output_type": "stream",
     "text": [
      "processing G_D20_R2_filtered\n",
      "hi! It is 18.05.23 x2\n"
     ]
    },
    {
     "name": "stderr",
     "output_type": "stream",
     "text": [
      "100% |########################################################################|\n",
      "100% |########################################################################|\n"
     ]
    },
    {
     "name": "stdout",
     "output_type": "stream",
     "text": [
      "processing G_D20_R3_filtered\n",
      "hi! It is 18.05.23 x2\n"
     ]
    },
    {
     "name": "stderr",
     "output_type": "stream",
     "text": [
      "100% |########################################################################|\n",
      "100% |########################################################################|\n"
     ]
    },
    {
     "name": "stdout",
     "output_type": "stream",
     "text": [
      "processing G_D20_R4_filtered\n",
      "hi! It is 18.05.23 x2\n"
     ]
    },
    {
     "name": "stderr",
     "output_type": "stream",
     "text": [
      "100% |########################################################################|\n",
      "100% |########################################################################|\n"
     ]
    },
    {
     "name": "stdout",
     "output_type": "stream",
     "text": [
      "processing K_D20\n",
      "hi! It is 18.05.23 x2\n"
     ]
    },
    {
     "name": "stderr",
     "output_type": "stream",
     "text": [
      "100% |########################################################################|\n",
      "100% |########################################################################|\n"
     ]
    },
    {
     "name": "stdout",
     "output_type": "stream",
     "text": [
      "processing K_D200\n"
     ]
    },
    {
     "name": "stderr",
     "output_type": "stream",
     "text": [
      "  0% |                                                                        |\r"
     ]
    },
    {
     "name": "stdout",
     "output_type": "stream",
     "text": [
      "hi! It is 18.05.23 x2\n"
     ]
    },
    {
     "name": "stderr",
     "output_type": "stream",
     "text": [
      "100% |########################################################################|\n",
      "100% |########################################################################|\n"
     ]
    },
    {
     "name": "stdout",
     "output_type": "stream",
     "text": [
      "processing O_D200_R1\n",
      "hi! It is 18.05.23 x2\n"
     ]
    },
    {
     "name": "stderr",
     "output_type": "stream",
     "text": [
      "100% |########################################################################|\n",
      "100% |########################################################################|\n"
     ]
    },
    {
     "name": "stdout",
     "output_type": "stream",
     "text": [
      "processing O_D200_R2\n",
      "hi! It is 18.05.23 x2\n"
     ]
    },
    {
     "name": "stderr",
     "output_type": "stream",
     "text": [
      "100% |########################################################################|\n",
      "100% |########################################################################|\n"
     ]
    },
    {
     "name": "stdout",
     "output_type": "stream",
     "text": [
      "processing O_D200_R3\n",
      "hi! It is 18.05.23 x2\n"
     ]
    },
    {
     "name": "stderr",
     "output_type": "stream",
     "text": [
      "100% |########################################################################|\n",
      "100% |########################################################################|\n"
     ]
    },
    {
     "name": "stdout",
     "output_type": "stream",
     "text": [
      "processing O_D2O_R1\n"
     ]
    },
    {
     "name": "stderr",
     "output_type": "stream",
     "text": [
      "  0% |                                                                        |\r"
     ]
    },
    {
     "name": "stdout",
     "output_type": "stream",
     "text": [
      "hi! It is 18.05.23 x2\n"
     ]
    },
    {
     "name": "stderr",
     "output_type": "stream",
     "text": [
      "100% |########################################################################|\n",
      "100% |########################################################################|\n"
     ]
    },
    {
     "name": "stdout",
     "output_type": "stream",
     "text": [
      "processing O_D2O_R2\n",
      "hi! It is 18.05.23 x2\n"
     ]
    },
    {
     "name": "stderr",
     "output_type": "stream",
     "text": [
      "100% |########################################################################|\n",
      "100% |########################################################################|\n"
     ]
    },
    {
     "name": "stdout",
     "output_type": "stream",
     "text": [
      "processing O_D2O_R3\n",
      "hi! It is 18.05.23 x2\n"
     ]
    },
    {
     "name": "stderr",
     "output_type": "stream",
     "text": [
      "100% |########################################################################|\n",
      "100% |########################################################################|\n"
     ]
    }
   ],
   "source": [
    "for i in np.arange(18, 20, 2):    \n",
    "    \n",
    "    upper_limit = i*BL_px\n",
    "    \n",
    "    print('lower limit = %i' %i)\n",
    "    for name in names_list: \n",
    "\n",
    "        # import the dataframe \n",
    "        with open(path_input_df + \"/df_up_\"+name+'.txt' , \"rb\") as myFile:\n",
    "            df_up = pickle.load(myFile)   \n",
    "\n",
    "        print('processing '+name)\n",
    "        # reset index\n",
    "        df_up = df_up.reset_index()\n",
    "\n",
    "        # take only the first minute\n",
    "        df_up = df_up[df_up.time > 60]\n",
    "        # filter out the trajectories approaching the capillary filled with the substrate\n",
    "        df_out = filter_traj_going_out(df_up, BL_px, upper_limit, lower_limit, name)\n",
    "        df_in = filter_traj_going_in(df_up, BL_px, upper_limit, lower_limit, name)\n",
    "\n",
    "        # calculate P \n",
    "        [P_list_out, _] = calculate_P(df_out)\n",
    "        [P_list_in, _] = calculate_P(df_in)\n",
    "\n",
    "        # put the list tog5ether\n",
    "        P_array_out = np.array(P_list_out)\n",
    "        P_array_in = np.array(P_list_in)\n",
    "\n",
    "        # save it \n",
    "        np.savetxt('C:/Users/UX325/Desktop/Imedea/queralt-chemotaxis/Python_scripts/P_scripts/P_values/P_values_in_'+name+'_3_%i.txt'%i,\n",
    "                   np.transpose(P_array_in), \n",
    "                   header = 'P control '+name) #save two numpy arrays (v1,v2) as columns in file \n",
    "        np.savetxt('C:/Users/UX325/Desktop/Imedea/queralt-chemotaxis/Python_scripts/P_scripts/P_values/P_values_out_'+name+'_3_%i.txt'%i,\n",
    "                   np.transpose(P_array_out), \n",
    "                   header = 'P control '+name) #save two numpy arrays (v1,v2) as columns in file "
   ]
  }
 ],
 "metadata": {
  "kernelspec": {
   "display_name": "Python 3 (ipykernel)",
   "language": "python",
   "name": "python3"
  },
  "language_info": {
   "codemirror_mode": {
    "name": "ipython",
    "version": 3
   },
   "file_extension": ".py",
   "mimetype": "text/x-python",
   "name": "python",
   "nbconvert_exporter": "python",
   "pygments_lexer": "ipython3",
   "version": "3.9.12"
  }
 },
 "nbformat": 4,
 "nbformat_minor": 5
}
