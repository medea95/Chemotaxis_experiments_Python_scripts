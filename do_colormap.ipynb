{
 "cells": [
  {
   "cell_type": "markdown",
   "id": "ead260cb-ca25-456b-9ac0-690617b7d8fc",
   "metadata": {},
   "source": [
    "## Script to make the heatmap of cell denisty of any experiment\n",
    "\n",
    "The script takes as input:\n",
    "* import the dataframe and the pipette properties. They musy be stored in the same folder.\n",
    "* set the size of the grid \n",
    "\n",
    "And gives as output:\n",
    "* the heatmap of cell concentration.\n",
    "\n",
    "The user must decide:\n",
    "* if the colorbar should be in linear or log scale\n",
    "* If the matrix should be in units of cells/um**2 or cell concentration/concentration background (unitless)\n",
    "\n",
    "A gaussian blur is authomatically applied to the heatmap to smooth sharp concentration gradient. This feature can be removed by setting the variable \"smoothing_factor\" to 0\n"
   ]
  },
  {
   "cell_type": "code",
   "execution_count": 2,
   "id": "c9b72ec1-726d-4474-9974-2531b9fe5abf",
   "metadata": {},
   "outputs": [],
   "source": [
    "# import libraries\n",
    "from tkinter import Tk\n",
    "from tkinter.filedialog import askdirectory, askopenfilename\n",
    "import os\n",
    "import glob\n",
    "import matplotlib.pyplot as plt\n",
    "from matplotlib import path\n",
    "import matplotlib\n",
    "import matplotlib.colors as colors\n",
    "%matplotlib inline \n",
    "import numpy as np\n",
    "from progressbar import ProgressBar\n",
    "import progressbar\n",
    "import pandas as pd\n",
    "import cv2 \n",
    "import seaborn as sns\n",
    "import pickle\n",
    "import warnings\n",
    "import json\n",
    "from scipy import misc,ndimage\n",
    "#suppress warnings\n",
    "warnings.filterwarnings('ignore')\n",
    "from ipynb.fs.full.my_functions import do_colormap, order_list\n",
    "from ipynb.fs.full.my_functions import read_pipette_dictionary_json, read_pipette_dictionary_txt,  filter_cells_radius\n",
    "\n",
    "sns.set_theme('poster') # paper, notebook, talk, poster\n",
    "sns.set_style('ticks')\n",
    "\n",
    "\n",
    "# conversion factor from pixel to um \n",
    "px_um_conversion_factor = 2.703\n",
    "\n",
    "# image size: it is the same for all videos!\n",
    "image_height, image_width = 720, 1280\n",
    "\n",
    "# Some experiment have the file containing the capillary saved as json file and others as .txt. Select the file\n",
    "# .txt or .json pipette file?\n",
    "pipette_dictionary  = False # for .txt\n",
    "json_pipette = True # for .json"
   ]
  },
  {
   "cell_type": "markdown",
   "id": "06362eeb-f251-4395-9353-c23088d7c51a",
   "metadata": {},
   "source": [
    "#### Here give all the info needed: of which video we want the colormap, the directory where the files are (df and pipette properties) and where to save the outputs"
   ]
  },
  {
   "cell_type": "code",
   "execution_count": 13,
   "id": "9fa44bca-8d4f-4f3b-9f7b-037f96e3d049",
   "metadata": {},
   "outputs": [],
   "source": [
    "# the DATAFRAME NAME MUST BE  in the format\n",
    "#                                                    df_up + video_name\n",
    "# and the PIPETTE FILE NAME MUST BE in the format \n",
    "#                                                   json_pipette_properties_2_ + video_name + .json\n",
    "\n",
    "# example: if I have              df_up_G_D200_R2, \n",
    "#               and               json_pipette_properties_2_G_D200_R2.json\n",
    "#               then              video_name = 'G_D200_R2'\n",
    "\n",
    "# name of the video \n",
    "video_name = 'G_D200_R2'"
   ]
  },
  {
   "cell_type": "code",
   "execution_count": 5,
   "id": "700733b6-3957-4403-a4c3-be020305c105",
   "metadata": {},
   "outputs": [],
   "source": [
    "# define the path where the data are stored. \n",
    "input_path = askdirectory()"
   ]
  },
  {
   "cell_type": "code",
   "execution_count": 6,
   "id": "e8dfadd9-eeee-47ea-848c-a823fc495c54",
   "metadata": {},
   "outputs": [],
   "source": [
    "# define the path where the data are stored. \n",
    "output_path = askdirectory()"
   ]
  },
  {
   "cell_type": "code",
   "execution_count": 9,
   "id": "3bf4e9a2-52cb-4a9e-88d1-31db4552c59b",
   "metadata": {},
   "outputs": [],
   "source": [
    "### import pipette properties (needed to know where the center of the pipette is)\n",
    "# select the pipette properties file to use \n",
    "if(pipette_dictionary):\n",
    "    pipette_properties_dictionary  = read_pipette_dictionary_txt(input_path, video_name)\n",
    "\n",
    "# WHIT JSON FILE\n",
    "# with json\n",
    "if(json_pipette):\n",
    "    pipette_properties_dictionary  = read_pipette_dictionary_json(input_path, video_name)\n",
    "    \n",
    "x_center_pipette_up, y_center_pipette_up= pipette_properties_dictionary['x_center_upper_pipette'],  pipette_properties_dictionary['y_center_upper_pipette']# IN PIXEL!!!!!\n",
    "x_center_pipette_low, y_center_pipette_low  = pipette_properties_dictionary['x_center_lower_pipette'], pipette_properties_dictionary['y_center_lower_pipette'] # IN PIXEL!!!!!\n",
    "# order the x and y coordinates of the countour of the pipettes\n",
    "x1, x2, x3, x4, y1, y2, y3, y4, list_x_up, list_y_up  = order_list(pipette_properties_dictionary['upper_contour'])# IN PIXEL!!!!!\n",
    "x5, x6,  x7, x8, y5, y6,  y7, y8, list_x_low , list_y_low = order_list(pipette_properties_dictionary['lower_contour'])# IN PIXEL!!!!!"
   ]
  },
  {
   "cell_type": "code",
   "execution_count": 10,
   "id": "1ae079c6-8dc6-498f-9e95-c638b7a6f85c",
   "metadata": {},
   "outputs": [],
   "source": [
    "# distance between the pipette centers\n",
    "# import df_up and df_low\n",
    "with open(input_path+\"/df_up_\"+video_name + add_string_to_name + \".txt\", \"rb\") as myFile:\n",
    "        df_up = pickle.load(myFile)   \n",
    "# create a column \"frame\"    \n",
    "df_up.reset_index(level=0, inplace=True)"
   ]
  },
  {
   "cell_type": "code",
   "execution_count": 12,
   "id": "b83e7884",
   "metadata": {},
   "outputs": [
    {
     "name": "stdout",
     "output_type": "stream",
     "text": [
      "detecting the cells which got stuck\n"
     ]
    },
    {
     "name": "stderr",
     "output_type": "stream",
     "text": [
      "100% |########################################################################|\n",
      "100% |                                                                        |\r"
     ]
    },
    {
     "name": "stdout",
     "output_type": "stream",
     "text": [
      "dropping 0 out of 32179 trajectories: 0.00000 percent of trajectories\n"
     ]
    },
    {
     "name": "stderr",
     "output_type": "stream",
     "text": [
      "\n"
     ]
    }
   ],
   "source": [
    "#Apply filter cells code\n",
    "radius = 30 # --> max distance in PIXEL between different points in the trajectory to consider it stuck\n",
    "n_frames = 30*10 # minimum number of frames the particle must remain stuck to be removed\n",
    "df_up, black_list = filter_cells_radius(df_up, radius, n_frames)"
   ]
  },
  {
   "cell_type": "markdown",
   "id": "15e42d98-c31d-4c1d-a281-f6cab42ad17e",
   "metadata": {},
   "source": [
    "Set the suze of the grid in the colormap (in pixel). It should be a divisor of the size of the image (720x1280)"
   ]
  },
  {
   "cell_type": "code",
   "execution_count": 16,
   "id": "5f86f9d1-d0ce-46eb-b69e-9d9eba627a2d",
   "metadata": {},
   "outputs": [],
   "source": [
    "# get dimensions of the image \n",
    "x_grid_size = 16\n",
    "y_grid_size = 8 "
   ]
  },
  {
   "cell_type": "code",
   "execution_count": 17,
   "id": "6a993636-d20a-4119-9a33-32b95ac91e58",
   "metadata": {},
   "outputs": [
    {
     "name": "stderr",
     "output_type": "stream",
     "text": [
      "  0% |                                                                        |\r"
     ]
    },
    {
     "name": "stdout",
     "output_type": "stream",
     "text": [
      "------------------------------------------------------------------------------------------------------\n",
      "COLORMAPS\n",
      "------------------------------------------------------------------------------------------------------\n",
      "calculating the matrix to do the colormap\n"
     ]
    },
    {
     "name": "stderr",
     "output_type": "stream",
     "text": [
      " 98% |####################################################################### |\r"
     ]
    }
   ],
   "source": [
    "print('------------------------------------------------------------------------------------------------------')\n",
    "print('COLORMAPS')\n",
    "print('------------------------------------------------------------------------------------------------------')\n",
    "\n",
    "print('calculating the matrix to do the colormap')\n",
    "\n",
    "\n",
    "nx = int(image_width/x_grid_size) # number of grids on the x dimensions\n",
    "ny = int(image_height/y_grid_size) # number of grids on the y dimensions\n",
    "\n",
    "# initiate the matrix to zero\n",
    "Z = np.zeros( (ny, nx)) # matrix for cell density \n",
    "\n",
    "# how many cells are in each grid \n",
    "# fill grid points over the y dimension\n",
    "bar = ProgressBar(maxval=ny)\n",
    "i = 0\n",
    "j = 0\n",
    "\n",
    "bar.start()\n",
    "for i in range(0, ny): \n",
    "    # fill grid points over the x dimension: \n",
    "    for j in range(0, nx): \n",
    "        #print('(%i, %i)' %(i, j))\n",
    "        cell_index = np.where( (df_up.x >=j*x_grid_size) & (df_up.x < (j+1)*x_grid_size) &  (df_up.y >= i*y_grid_size) & (df_up.y < (i+1)*y_grid_size))\n",
    "        # count the cells per grid\n",
    "        cell_number = np.size(cell_index)\n",
    "        # add it to the matrix\n",
    "        Z[i, j] = cell_number\n",
    "\n",
    "    bar.update(i)\n",
    "\n",
    "Z_copy = Z# I set a copy not to loose the original colormap if I want to try different calculations\n",
    "# Pass the  values to concentrations: cells/um**2 \n",
    "Z_concentration = Z_copy/(x_grid_size*y_grid_size*px_um_conversion_factor**2)\n",
    "# apply a gaussian blur for a smoother results\n",
    "smoothing_factor = 0.8\n",
    "Z_concentration= ndimage.gaussian_filter(Z_concentration, smoothing_factor, mode='nearest')\n",
    "\n",
    "\n",
    "# Calculate the average background concentration: also cells/px**2\n",
    "Z_background = np.sum(Z)/(720*1280*px_um_conversion_factor**2)\n",
    "# divide the colormap by the background\n",
    "Z_normalized = Z_concentration/Z_background\n",
    "Z = Z_normalized"
   ]
  },
  {
   "cell_type": "markdown",
   "id": "270868ec",
   "metadata": {},
   "source": [
    "Define the parameters of the colorbar: \n",
    "* give the maximum and minium values (automatically set to the max and min concentrations in the experiment) \n",
    "* decide the scale (\"norm\"): linear or log?"
   ]
  },
  {
   "cell_type": "code",
   "execution_count": 28,
   "id": "0b727b6b",
   "metadata": {},
   "outputs": [],
   "source": [
    "# Define the extremes of the colormap \n",
    "vmax = np.max(Z_concentration)# set colorbar max to the max value of the matrix Z \n",
    "#vmax = 0.02\n",
    "vmin = np.min(Z_concentration) \n",
    "\n",
    "# logaritmic: good if the plotted field spans over different order of magnitude\n",
    "norm=colors.LogNorm(vmin=vmin, vmax=vmax)\n",
    "if( vmin == 0 ): \n",
    "    print('\"vmin\" cannot be zero in log scale, change vmin to a positive value if you want to use the log scale')\n",
    "\n",
    "# linear scale \n",
    "norm=colors.Normalize(vmin = vmin, vmax = vmax)"
   ]
  },
  {
   "cell_type": "code",
   "execution_count": 29,
   "id": "1ae25df0",
   "metadata": {},
   "outputs": [
    {
     "data": {
      "image/png": "[encoded data removed]",
      "text/plain": [
       "<Figure size 1080x504 with 2 Axes>"
      ]
     },
     "metadata": {},
     "output_type": "display_data"
    }
   ],
   "source": [
    "#plot\n",
    "fig, ax = plt.subplots(figsize=(15, 7))\n",
    "\n",
    "mesh = ax.pcolormesh(np.arange(0,image_width, x_grid_size), np.arange(0,image_height, y_grid_size), Z_concentration, norm = norm, \n",
    "                     cmap = 'jet', shading = 'auto') # if you want to remove the log scale, remove the param \"norm\" from pcolormesh\n",
    "cbar = fig.colorbar(mesh)\n",
    "cbar.set_label('[cells/um**2]', rotation=90, labelpad=30, fontsize = 20)\n",
    "\n",
    "#cbar.set_label(r'number of cells / (%i x % i) pixel$^2$' %(x_grid_size,y_grid_size), fontsize = 15)\n",
    "plt.plot(list_x_up, list_y_up, color = 'black', linewidth = 5)\n",
    "plt.plot(list_x_low, list_y_low, color = 'black', linewidth = 5)\n",
    "\n",
    "x_ticks_position_um= np.arange(0, image_width*px_um_conversion_factor, 400)\n",
    "x_ticks_position_px = x_ticks_position_um/px_um_conversion_factor\n",
    "x_ticks_position_um_label = [int(i) for i in x_ticks_position_um]\n",
    "ax.set_xticks(ticks = x_ticks_position_px)\n",
    "ax.set_xticklabels(labels= x_ticks_position_um_label)\n",
    "ax.set_xlabel('$\\mu$ m')\n",
    "\n",
    "\n",
    "y_ticks_position_um= np.arange(0, image_height*px_um_conversion_factor, 400)\n",
    "y_ticks_position_px = y_ticks_position_um/px_um_conversion_factor\n",
    "y_ticks_position_um_label = [int(i) for i in y_ticks_position_um]\n",
    "ax.set_yticks(ticks = y_ticks_position_px)\n",
    "ax.set_yticklabels(labels= y_ticks_position_um_label)\n",
    "ax.set_ylabel('$\\mu$ m')\n",
    "\n",
    "#ax.set_xlim([0, 2800/px_um_conversion_factor])\n",
    "\n",
    "\n",
    "plt.gca().invert_yaxis()\n",
    "\n",
    "#fig.savefig(output_path + '/'+video_name+'_colormap')\n",
    "# plt.close(fig); # comment this if you want to see the picture displayed while running the script "
   ]
  }
 ],
 "metadata": {
  "kernelspec": {
   "display_name": "Python 3 (ipykernel)",
   "language": "python",
   "name": "python3"
  },
  "language_info": {
   "codemirror_mode": {
    "name": "ipython",
    "version": 3
   },
   "file_extension": ".py",
   "mimetype": "text/x-python",
   "name": "python",
   "nbconvert_exporter": "python",
   "pygments_lexer": "ipython3",
   "version": "3.9.12"
  }
 },
 "nbformat": 4,
 "nbformat_minor": 5
}
