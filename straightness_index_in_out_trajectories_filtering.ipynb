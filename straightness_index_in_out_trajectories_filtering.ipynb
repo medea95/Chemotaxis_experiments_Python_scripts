{
 "cells": [
  {
   "cell_type": "markdown",
   "id": "c5b184f9-146b-4b9d-948f-df31f70c1f0f",
   "metadata": {},
   "source": [
    "## Filter out trajectories going in the capillar \n",
    "\n",
    "In this Notebook we take as input a dataframe ( \"df_up\" ) of the tracking and select the trajectories that are approaching the capillar filled with substrate. \n",
    "Ç\n",
    "A cell is considered to have reached the capillary when it is at 3 bodylength (BL) distance from the center of the capillary. \n",
    "\n",
    "*written by Medea on 10/02/2023*\n",
    "\n",
    "*update 14/02/2023*: \n",
    "\n",
    "added funciton to filter out the outgoing particles (\"specular\" of the ingoing particles)"
   ]
  },
  {
   "cell_type": "code",
   "execution_count": 23,
   "id": "41bc797d-0f59-40b4-8f95-5dbfd424fce6",
   "metadata": {},
   "outputs": [],
   "source": [
    "import pickle \n",
    "import numpy as np \n",
    "import pandas as pd\n",
    "import matplotlib.pyplot as plt\n",
    "%matplotlib inline\n",
    "import progressbar\n",
    "from os import walk\n",
    "# my functions\n",
    "import seaborn as sns \n",
    "sns.set_theme('poster')\n",
    "from functions_P_parameter import filter_traj_going_in, filter_traj_going_out\n",
    "from tkinter.filedialog import askdirectory, askopenfilename\n",
    "\n",
    "px_um_conversion_factor = 2.703"
   ]
  },
  {
   "cell_type": "markdown",
   "id": "352dbbea-8fd6-4588-993b-3ce236863baa",
   "metadata": {
    "tags": []
   },
   "source": [
    "Define the body length BL. Taking an average between organisms, we set: $$ BL = 20 \\;  \\mu m$$"
   ]
  },
  {
   "cell_type": "code",
   "execution_count": 8,
   "id": "082ac778-45cb-4ca3-a696-d463cbb65945",
   "metadata": {},
   "outputs": [],
   "source": [
    "BL_um = 20 # um\n",
    "# pass it to pixels \n",
    "BL_px = BL_um / px_um_conversion_factor \n",
    "\n",
    "# threshold length \n",
    "#threshold_length = 30"
   ]
  },
  {
   "cell_type": "markdown",
   "id": "eb700d27-6661-407e-ad75-7a42129bd132",
   "metadata": {
    "tags": []
   },
   "source": [
    "Import all the dataframes  on which we want to perform the filtering and save the output"
   ]
  },
  {
   "cell_type": "code",
   "execution_count": 16,
   "id": "70fc3967-c118-46a2-9216-7884631ca4dd",
   "metadata": {},
   "outputs": [],
   "source": [
    "# path input dataframes \n",
    "path_input_df = askdirectory()"
   ]
  },
  {
   "cell_type": "code",
   "execution_count": 17,
   "id": "bdd57d02-bffd-4196-913e-72b7512ac1d7",
   "metadata": {
    "tags": []
   },
   "outputs": [],
   "source": [
    "# get all the file names in a directory\n",
    "f = []\n",
    "\n",
    "for (dirpath, dirnames, filenames) in walk(path_input_df):\n",
    "    f.extend(filenames)\n",
    "    break\n",
    "\n",
    "# now I select only the files starting with \"df_up\" and create a list of the files names\n",
    "names_list = []\n",
    "for filename in f: \n",
    "    if(filename.startswith('df_up')):\n",
    "        filename = filename.replace('df_up_', '')\n",
    "        filename = filename.replace('.txt', '')\n",
    "\n",
    "        names_list.append(filename)"
   ]
  },
  {
   "cell_type": "code",
   "execution_count": 20,
   "id": "dead9ce6-22ce-4812-91a2-82441dbc1b98",
   "metadata": {},
   "outputs": [],
   "source": [
    "names_list = ['G_D200_R1', 'G_D200_R2']"
   ]
  },
  {
   "cell_type": "markdown",
   "id": "b2b36af7-58f9-4b4a-98c8-cece2b9cc7eb",
   "metadata": {
    "tags": []
   },
   "source": [
    "### filter outgoing trajectories"
   ]
  },
  {
   "cell_type": "code",
   "execution_count": 24,
   "id": "ee6e18e3-4b39-4aaa-a577-ee70229239e6",
   "metadata": {
    "tags": []
   },
   "outputs": [
    {
     "name": "stderr",
     "output_type": "stream",
     "text": [
      "  0% |                                                                        |\r"
     ]
    },
    {
     "name": "stdout",
     "output_type": "stream",
     "text": [
      "processing G_D200_R1\n",
      "hi! It is 18.05.23 x2\n"
     ]
    },
    {
     "name": "stderr",
     "output_type": "stream",
     "text": [
      "100% |########################################################################|\n",
      "  0% |                                                                        |\r"
     ]
    },
    {
     "name": "stdout",
     "output_type": "stream",
     "text": [
      "doing the plot of the trajectories\n"
     ]
    },
    {
     "name": "stderr",
     "output_type": "stream",
     "text": [
      "100% |########################################################################|\n",
      "  0% |                                                                        |\r"
     ]
    },
    {
     "name": "stdout",
     "output_type": "stream",
     "text": [
      "processing G_D200_R2\n",
      "hi! It is 18.05.23 x2\n"
     ]
    },
    {
     "name": "stderr",
     "output_type": "stream",
     "text": [
      "100% |########################################################################|\n",
      "  0% |                                                                        |\r"
     ]
    },
    {
     "name": "stdout",
     "output_type": "stream",
     "text": [
      "doing the plot of the trajectories\n"
     ]
    },
    {
     "name": "stderr",
     "output_type": "stream",
     "text": [
      "100% |########################################################################|\n"
     ]
    }
   ],
   "source": [
    "for name in names_list: \n",
    "    \n",
    "    # import the dataframe \n",
    "    with open(path_input_df + \"/df_up_\"+name+'.txt' , \"rb\") as myFile:\n",
    "        df_up = pickle.load(myFile)   \n",
    "        \n",
    "    print('processing '+name)\n",
    "    # reset index\n",
    "    df_up = df_up.reset_index()\n",
    "        \n",
    "    # filter out the trajectories approaching the capillary filled with the substrate\n",
    "    lower_limit = 3*BL_px\n",
    "    upper_limit = 10*BL_px\n",
    "    df_out = filter_traj_going_out(df_up, BL_px, upper_limit, lower_limit, name = name)\n",
    "    \n",
    "    # save the output :D\n",
    "    with open(path+ \"/df_outgoing_\"+ name, \"wb\") as myFile:    #choose the name to save it \n",
    "        pickle.dump(df_out, myFile)\n",
    "        \n",
    "    # plot the filtered trajectories and save the plot \n",
    "    print('doing the plot of the trajectories')\n",
    "\n",
    "    bar = progressbar.ProgressBar(maxval = len(np.unique(df_up.particle)))\n",
    "    bar.start()\n",
    "    i_bar = 0\n",
    "\n",
    "    fig = plt.figure(figsize = (15,15)) \n",
    "\n",
    "    for particle in bar(np.unique(df_out.particle)): \n",
    "        \n",
    "        # select one trajectory \n",
    "        particle_df = df_out[df_out['particle'] == particle ]\n",
    "        # coordinates of the last points\n",
    "        x_end = particle_df.x_new.values[-1]\n",
    "        y_end = particle_df.y_new.values[-1]\n",
    "\n",
    "        #plot it\n",
    "        plt.plot(particle_df.x_new, particle_df.y_new)\n",
    "        #label the particle\n",
    "        #plt.text(x_end, y_end, '%i'%particle, horizontalalignment='right')\n",
    "        # update progressbar\n",
    "        bar.update(i_bar)  \n",
    "        i_bar += 1 \n",
    "        \n",
    "    plt.title('going out: %s' %name)\n",
    "    plt.xlabel('x_new')\n",
    "    plt.ylabel('y_new')\n",
    "    #save it\n",
    "    fig.savefig(path+name+'_out_%iBL_%iBL.png'%(int(lower_limit/BL_px), int(upper_limit/BL_px)))\n",
    "    plt.close()"
   ]
  },
  {
   "cell_type": "markdown",
   "id": "d47ee5d5-36b1-4b09-9ff3-5a46e3dce6f1",
   "metadata": {},
   "source": [
    "going_in"
   ]
  },
  {
   "cell_type": "code",
   "execution_count": 26,
   "id": "b9bc5653-e549-4600-99bc-d3da00cb7609",
   "metadata": {
    "tags": []
   },
   "outputs": [
    {
     "name": "stderr",
     "output_type": "stream",
     "text": [
      "  0% |                                                                        |\r"
     ]
    },
    {
     "name": "stdout",
     "output_type": "stream",
     "text": [
      "processing G_D200_R1\n"
     ]
    },
    {
     "name": "stderr",
     "output_type": "stream",
     "text": [
      "100% |########################################################################|\n",
      "  0% |                                                                        |\r"
     ]
    },
    {
     "name": "stdout",
     "output_type": "stream",
     "text": [
      "doing the plot of the trajectories\n"
     ]
    },
    {
     "name": "stderr",
     "output_type": "stream",
     "text": [
      "100% |########################################################################|\n",
      "  0% |                                                                        |\r"
     ]
    },
    {
     "name": "stdout",
     "output_type": "stream",
     "text": [
      "processing G_D200_R2\n"
     ]
    },
    {
     "name": "stderr",
     "output_type": "stream",
     "text": [
      "100% |########################################################################|\n",
      "  0% |                                                                        |\r"
     ]
    },
    {
     "name": "stdout",
     "output_type": "stream",
     "text": [
      "doing the plot of the trajectories\n"
     ]
    },
    {
     "name": "stderr",
     "output_type": "stream",
     "text": [
      "100% |########################################################################|\n"
     ]
    }
   ],
   "source": [
    "for name in names_list: \n",
    "    \n",
    "    # import the dataframe \n",
    "    with open(path_input_df+ \"/df_up_\"+name+'.txt' , \"rb\") as myFile:\n",
    "        df_up = pickle.load(myFile)   \n",
    "        \n",
    "    print('processing '+name)\n",
    "    # reset index\n",
    "    df_up = df_up.reset_index()\n",
    "        \n",
    "    # filter out the trajectories approaching the capillary filled with the substrate\n",
    "    lower_limit = 3*BL_px\n",
    "    upper_limit = 10*BL_px\n",
    "    df_out = filter_traj_going_in(df_up, BL_px,upper_limit, lower_limit, name = name)\n",
    "    \n",
    "    # save the output :D\n",
    "    with open(path+ \"/df_ingoing_\"+ name, \"wb\") as myFile:    #choose the name to save it \n",
    "        pickle.dump(df_out, myFile)\n",
    "        \n",
    "    # plot the filtered trajectories and save the plot \n",
    "    print('doing the plot of the trajectories')\n",
    "\n",
    "    bar = progressbar.ProgressBar(maxval = len(np.unique(df_up.particle)))\n",
    "    bar.start()\n",
    "    i_bar = 0\n",
    "\n",
    "    fig = plt.figure(figsize = (15,15)) \n",
    "\n",
    "    for particle in bar(np.unique(df_out.particle)): \n",
    "        \n",
    "        # select one trajectory \n",
    "        particle_df = df_out[df_out['particle'] == particle ]\n",
    "        # coordinates of the last points\n",
    "        x_end = particle_df.x_new.values[-1]\n",
    "        y_end = particle_df.y_new.values[-1]\n",
    "\n",
    "        #plot it\n",
    "        plt.plot(particle_df.x_new, particle_df.y_new)\n",
    "        #label the particle\n",
    "        #plt.text(x_end, y_end, '%i'%particle, horizontalalignment='right')\n",
    "        # update progressbar\n",
    "        bar.update(i_bar)\n",
    "        i_bar += 1 \n",
    "        \n",
    "    plt.title('going in: %s' %name)\n",
    "    plt.xlabel('x_new')\n",
    "    plt.ylabel('y_new')\n",
    "    #save it\n",
    "    fig.savefig(path+name+'_in_%iBL_%iBL.png'%(int(lower_limit/BL_px), int(upper_limit/BL_px)))\n",
    "    plt.close()"
   ]
  }
 ],
 "metadata": {
  "kernelspec": {
   "display_name": "Python 3 (ipykernel)",
   "language": "python",
   "name": "python3"
  },
  "language_info": {
   "codemirror_mode": {
    "name": "ipython",
    "version": 3
   },
   "file_extension": ".py",
   "mimetype": "text/x-python",
   "name": "python",
   "nbconvert_exporter": "python",
   "pygments_lexer": "ipython3",
   "version": "3.9.12"
  }
 },
 "nbformat": 4,
 "nbformat_minor": 5
}
